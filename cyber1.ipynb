{
 "cells": [
  {
   "cell_type": "code",
   "execution_count": null,
   "id": "847c13dc-c7a8-4406-992a-0ece160b21ef",
   "metadata": {},
   "outputs": [
    {
     "name": "stdin",
     "output_type": "stream",
     "text": [
      "Do you want to encrypt or decrypt? (e/d):  e\n",
      "Enter the message to encrypt:  hello\n",
      "Enter the shift value (a positive integer):  2\n"
     ]
    },
    {
     "name": "stdout",
     "output_type": "stream",
     "text": [
      "Encrypted message: jgnnq\n"
     ]
    },
    {
     "name": "stdin",
     "output_type": "stream",
     "text": [
      "Do you want to try again? (yes/no):  yes\n",
      "Do you want to encrypt or decrypt? (e/d):  d\n",
      "Enter the message to decrypt:  jgnnq\n",
      "Enter the shift value used for encryption:  2\n"
     ]
    },
    {
     "name": "stdout",
     "output_type": "stream",
     "text": [
      "Decrypted message: hello\n"
     ]
    }
   ],
   "source": [
    "def caesar_cipher(text, shift, decrypt=False):\n",
    "    encrypted_text = \"\"\n",
    "    for char in text:\n",
    "        if char.isalpha():  # Check if the character is a letter\n",
    "            if char.islower():\n",
    "                start = ord('a')\n",
    "            else:\n",
    "                start = ord('A')\n",
    "            if decrypt:\n",
    "                shifted_char = chr((ord(char) - start - shift) % 26 + start)\n",
    "            else:\n",
    "                shifted_char = chr((ord(char) - start + shift) % 26 + start)\n",
    "            encrypted_text += shifted_char\n",
    "        else:\n",
    "            encrypted_text += char  # Non-alphabetical characters remain unchanged\n",
    "    return encrypted_text\n",
    "\n",
    "def main():\n",
    "    while True:\n",
    "        choice = input(\"Do you want to encrypt or decrypt? (e/d): \").lower()\n",
    "        if choice == 'e':\n",
    "            plaintext = input(\"Enter the message to encrypt: \")\n",
    "            shift = int(input(\"Enter the shift value (a positive integer): \"))\n",
    "            encrypted_message = caesar_cipher(plaintext, shift)\n",
    "            print(f\"Encrypted message: {encrypted_message}\")\n",
    "        elif choice == 'd':\n",
    "            ciphertext = input(\"Enter the message to decrypt: \")\n",
    "            shift = int(input(\"Enter the shift value used for encryption: \"))\n",
    "            decrypted_message = caesar_cipher(ciphertext, shift, decrypt=True)\n",
    "            print(f\"Decrypted message: {decrypted_message}\")\n",
    "        else:\n",
    "            print(\"Invalid choice. Please enter 'e' for encryption or 'd' for decryption.\")\n",
    "        \n",
    "        try_again = input(\"Do you want to try again? (yes/no): \").lower()\n",
    "        if try_again != 'yes':\n",
    "            break\n",
    "\n",
    "if __name__ == \"__main__\":\n",
    "    main()\n"
   ]
  },
  {
   "cell_type": "code",
   "execution_count": null,
   "id": "5dcc9c38-f195-4a4a-b810-2d46c5ac20a2",
   "metadata": {},
   "outputs": [],
   "source": []
  }
 ],
 "metadata": {
  "kernelspec": {
   "display_name": "Python 3 (ipykernel)",
   "language": "python",
   "name": "python3"
  },
  "language_info": {
   "codemirror_mode": {
    "name": "ipython",
    "version": 3
   },
   "file_extension": ".py",
   "mimetype": "text/x-python",
   "name": "python",
   "nbconvert_exporter": "python",
   "pygments_lexer": "ipython3",
   "version": "3.11.7"
  }
 },
 "nbformat": 4,
 "nbformat_minor": 5
}
